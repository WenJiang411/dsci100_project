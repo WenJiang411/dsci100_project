{
 "cells": [
  {
   "cell_type": "markdown",
   "metadata": {},
   "source": [
    "# Group Project Proposal: Student Performance. \n",
    "### Members: Wen Jiang, Adam Gierej, Daniel Dong. \n",
    "\n",
    "## Introduction\n",
    "\n",
    "The question we will seek to answer is when given the number of absences, what students' grades for the course mathematics are. The data set we will use to answer this question is from UCI’s machine learning repository, and the data was collected from two Portuguese secondary schools. The data set includes a range of attributes including demographic, social, family and school features possibly related to student performance, and it also contains first period, second period and final grades. There are two subsets in this data set: grades of mathematics, and grades of Portuguese language, but we will only use mathematics grades for analysis.\n",
    "\n",
    "## Preliminary exploratory data analysis"
   ]
  },
  {
   "cell_type": "code",
   "execution_count": 1,
   "metadata": {},
   "outputs": [
    {
     "name": "stderr",
     "output_type": "stream",
     "text": [
      "── \u001b[1mAttaching packages\u001b[22m ─────────────────────────────────────── tidyverse 1.3.0 ──\n",
      "\n",
      "\u001b[32m✔\u001b[39m \u001b[34mggplot2\u001b[39m 3.3.2     \u001b[32m✔\u001b[39m \u001b[34mpurrr  \u001b[39m 0.3.4\n",
      "\u001b[32m✔\u001b[39m \u001b[34mtibble \u001b[39m 3.0.3     \u001b[32m✔\u001b[39m \u001b[34mdplyr  \u001b[39m 1.0.2\n",
      "\u001b[32m✔\u001b[39m \u001b[34mtidyr  \u001b[39m 1.1.2     \u001b[32m✔\u001b[39m \u001b[34mstringr\u001b[39m 1.4.0\n",
      "\u001b[32m✔\u001b[39m \u001b[34mreadr  \u001b[39m 1.3.1     \u001b[32m✔\u001b[39m \u001b[34mforcats\u001b[39m 0.5.0\n",
      "\n",
      "Warning message:\n",
      "“package ‘ggplot2’ was built under R version 4.0.1”\n",
      "Warning message:\n",
      "“package ‘tibble’ was built under R version 4.0.2”\n",
      "Warning message:\n",
      "“package ‘tidyr’ was built under R version 4.0.2”\n",
      "Warning message:\n",
      "“package ‘dplyr’ was built under R version 4.0.2”\n",
      "── \u001b[1mConflicts\u001b[22m ────────────────────────────────────────── tidyverse_conflicts() ──\n",
      "\u001b[31m✖\u001b[39m \u001b[34mdplyr\u001b[39m::\u001b[32mfilter()\u001b[39m masks \u001b[34mstats\u001b[39m::filter()\n",
      "\u001b[31m✖\u001b[39m \u001b[34mdplyr\u001b[39m::\u001b[32mlag()\u001b[39m    masks \u001b[34mstats\u001b[39m::lag()\n",
      "\n",
      "Warning message:\n",
      "“package ‘tidymodels’ was built under R version 4.0.2”\n",
      "── \u001b[1mAttaching packages\u001b[22m ────────────────────────────────────── tidymodels 0.1.1 ──\n",
      "\n",
      "\u001b[32m✔\u001b[39m \u001b[34mbroom    \u001b[39m 0.7.0      \u001b[32m✔\u001b[39m \u001b[34mrecipes  \u001b[39m 0.1.13\n",
      "\u001b[32m✔\u001b[39m \u001b[34mdials    \u001b[39m 0.0.9      \u001b[32m✔\u001b[39m \u001b[34mrsample  \u001b[39m 0.0.7 \n",
      "\u001b[32m✔\u001b[39m \u001b[34minfer    \u001b[39m 0.5.4      \u001b[32m✔\u001b[39m \u001b[34mtune     \u001b[39m 0.1.1 \n",
      "\u001b[32m✔\u001b[39m \u001b[34mmodeldata\u001b[39m 0.0.2      \u001b[32m✔\u001b[39m \u001b[34mworkflows\u001b[39m 0.2.0 \n",
      "\u001b[32m✔\u001b[39m \u001b[34mparsnip  \u001b[39m 0.1.3      \u001b[32m✔\u001b[39m \u001b[34myardstick\u001b[39m 0.0.7 \n",
      "\n",
      "Warning message:\n",
      "“package ‘broom’ was built under R version 4.0.2”\n",
      "Warning message:\n",
      "“package ‘dials’ was built under R version 4.0.2”\n",
      "Warning message:\n",
      "“package ‘infer’ was built under R version 4.0.3”\n",
      "Warning message:\n",
      "“package ‘modeldata’ was built under R version 4.0.1”\n",
      "Warning message:\n",
      "“package ‘parsnip’ was built under R version 4.0.2”\n",
      "Warning message:\n",
      "“package ‘recipes’ was built under R version 4.0.1”\n",
      "Warning message:\n",
      "“package ‘tune’ was built under R version 4.0.2”\n",
      "Warning message:\n",
      "“package ‘workflows’ was built under R version 4.0.2”\n",
      "Warning message:\n",
      "“package ‘yardstick’ was built under R version 4.0.2”\n",
      "── \u001b[1mConflicts\u001b[22m ───────────────────────────────────────── tidymodels_conflicts() ──\n",
      "\u001b[31m✖\u001b[39m \u001b[34mscales\u001b[39m::\u001b[32mdiscard()\u001b[39m masks \u001b[34mpurrr\u001b[39m::discard()\n",
      "\u001b[31m✖\u001b[39m \u001b[34mdplyr\u001b[39m::\u001b[32mfilter()\u001b[39m   masks \u001b[34mstats\u001b[39m::filter()\n",
      "\u001b[31m✖\u001b[39m \u001b[34mrecipes\u001b[39m::\u001b[32mfixed()\u001b[39m  masks \u001b[34mstringr\u001b[39m::fixed()\n",
      "\u001b[31m✖\u001b[39m \u001b[34mdplyr\u001b[39m::\u001b[32mlag()\u001b[39m      masks \u001b[34mstats\u001b[39m::lag()\n",
      "\u001b[31m✖\u001b[39m \u001b[34myardstick\u001b[39m::\u001b[32mspec()\u001b[39m masks \u001b[34mreadr\u001b[39m::spec()\n",
      "\u001b[31m✖\u001b[39m \u001b[34mrecipes\u001b[39m::\u001b[32mstep()\u001b[39m   masks \u001b[34mstats\u001b[39m::step()\n",
      "\n"
     ]
    },
    {
     "data": {
      "text/html": [
       "<table>\n",
       "<caption>A data.frame: 395 × 33</caption>\n",
       "<thead>\n",
       "\t<tr><th scope=col>school</th><th scope=col>sex</th><th scope=col>age</th><th scope=col>address</th><th scope=col>famsize</th><th scope=col>Pstatus</th><th scope=col>Medu</th><th scope=col>Fedu</th><th scope=col>Mjob</th><th scope=col>Fjob</th><th scope=col>⋯</th><th scope=col>famrel</th><th scope=col>freetime</th><th scope=col>goout</th><th scope=col>Dalc</th><th scope=col>Walc</th><th scope=col>health</th><th scope=col>absences</th><th scope=col>G1</th><th scope=col>G2</th><th scope=col>G3</th></tr>\n",
       "\t<tr><th scope=col>&lt;chr&gt;</th><th scope=col>&lt;chr&gt;</th><th scope=col>&lt;int&gt;</th><th scope=col>&lt;chr&gt;</th><th scope=col>&lt;chr&gt;</th><th scope=col>&lt;chr&gt;</th><th scope=col>&lt;int&gt;</th><th scope=col>&lt;int&gt;</th><th scope=col>&lt;chr&gt;</th><th scope=col>&lt;chr&gt;</th><th scope=col>⋯</th><th scope=col>&lt;int&gt;</th><th scope=col>&lt;int&gt;</th><th scope=col>&lt;int&gt;</th><th scope=col>&lt;int&gt;</th><th scope=col>&lt;int&gt;</th><th scope=col>&lt;int&gt;</th><th scope=col>&lt;int&gt;</th><th scope=col>&lt;int&gt;</th><th scope=col>&lt;int&gt;</th><th scope=col>&lt;int&gt;</th></tr>\n",
       "</thead>\n",
       "<tbody>\n",
       "\t<tr><td>GP</td><td>F</td><td>18</td><td>U</td><td>GT3</td><td>A</td><td>4</td><td>4</td><td>at_home</td><td>teacher</td><td>⋯</td><td>4</td><td>3</td><td>4</td><td>1</td><td>1</td><td>3</td><td> 6</td><td>5</td><td>6</td><td> 6</td></tr>\n",
       "\t<tr><td>GP</td><td>F</td><td>17</td><td>U</td><td>GT3</td><td>T</td><td>1</td><td>1</td><td>at_home</td><td>other  </td><td>⋯</td><td>5</td><td>3</td><td>3</td><td>1</td><td>1</td><td>3</td><td> 4</td><td>5</td><td>5</td><td> 6</td></tr>\n",
       "\t<tr><td>GP</td><td>F</td><td>15</td><td>U</td><td>LE3</td><td>T</td><td>1</td><td>1</td><td>at_home</td><td>other  </td><td>⋯</td><td>4</td><td>3</td><td>2</td><td>2</td><td>3</td><td>3</td><td>10</td><td>7</td><td>8</td><td>10</td></tr>\n",
       "\t<tr><td>⋮</td><td>⋮</td><td>⋮</td><td>⋮</td><td>⋮</td><td>⋮</td><td>⋮</td><td>⋮</td><td>⋮</td><td>⋮</td><td>⋱</td><td>⋮</td><td>⋮</td><td>⋮</td><td>⋮</td><td>⋮</td><td>⋮</td><td>⋮</td><td>⋮</td><td>⋮</td><td>⋮</td></tr>\n",
       "\t<tr><td>MS</td><td>M</td><td>21</td><td>R</td><td>GT3</td><td>T</td><td>1</td><td>1</td><td>other   </td><td>other  </td><td>⋯</td><td>5</td><td>5</td><td>3</td><td>3</td><td>3</td><td>3</td><td>3</td><td>10</td><td> 8</td><td> 7</td></tr>\n",
       "\t<tr><td>MS</td><td>M</td><td>18</td><td>R</td><td>LE3</td><td>T</td><td>3</td><td>2</td><td>services</td><td>other  </td><td>⋯</td><td>4</td><td>4</td><td>1</td><td>3</td><td>4</td><td>5</td><td>0</td><td>11</td><td>12</td><td>10</td></tr>\n",
       "\t<tr><td>MS</td><td>M</td><td>19</td><td>U</td><td>LE3</td><td>T</td><td>1</td><td>1</td><td>other   </td><td>at_home</td><td>⋯</td><td>3</td><td>2</td><td>3</td><td>3</td><td>3</td><td>5</td><td>5</td><td> 8</td><td> 9</td><td> 9</td></tr>\n",
       "</tbody>\n",
       "</table>\n"
      ],
      "text/latex": [
       "A data.frame: 395 × 33\n",
       "\\begin{tabular}{lllllllllllllllllllll}\n",
       " school & sex & age & address & famsize & Pstatus & Medu & Fedu & Mjob & Fjob & ⋯ & famrel & freetime & goout & Dalc & Walc & health & absences & G1 & G2 & G3\\\\\n",
       " <chr> & <chr> & <int> & <chr> & <chr> & <chr> & <int> & <int> & <chr> & <chr> & ⋯ & <int> & <int> & <int> & <int> & <int> & <int> & <int> & <int> & <int> & <int>\\\\\n",
       "\\hline\n",
       "\t GP & F & 18 & U & GT3 & A & 4 & 4 & at\\_home & teacher & ⋯ & 4 & 3 & 4 & 1 & 1 & 3 &  6 & 5 & 6 &  6\\\\\n",
       "\t GP & F & 17 & U & GT3 & T & 1 & 1 & at\\_home & other   & ⋯ & 5 & 3 & 3 & 1 & 1 & 3 &  4 & 5 & 5 &  6\\\\\n",
       "\t GP & F & 15 & U & LE3 & T & 1 & 1 & at\\_home & other   & ⋯ & 4 & 3 & 2 & 2 & 3 & 3 & 10 & 7 & 8 & 10\\\\\n",
       "\t ⋮ & ⋮ & ⋮ & ⋮ & ⋮ & ⋮ & ⋮ & ⋮ & ⋮ & ⋮ & ⋱ & ⋮ & ⋮ & ⋮ & ⋮ & ⋮ & ⋮ & ⋮ & ⋮ & ⋮ & ⋮\\\\\n",
       "\t MS & M & 21 & R & GT3 & T & 1 & 1 & other    & other   & ⋯ & 5 & 5 & 3 & 3 & 3 & 3 & 3 & 10 &  8 &  7\\\\\n",
       "\t MS & M & 18 & R & LE3 & T & 3 & 2 & services & other   & ⋯ & 4 & 4 & 1 & 3 & 4 & 5 & 0 & 11 & 12 & 10\\\\\n",
       "\t MS & M & 19 & U & LE3 & T & 1 & 1 & other    & at\\_home & ⋯ & 3 & 2 & 3 & 3 & 3 & 5 & 5 &  8 &  9 &  9\\\\\n",
       "\\end{tabular}\n"
      ],
      "text/markdown": [
       "\n",
       "A data.frame: 395 × 33\n",
       "\n",
       "| school &lt;chr&gt; | sex &lt;chr&gt; | age &lt;int&gt; | address &lt;chr&gt; | famsize &lt;chr&gt; | Pstatus &lt;chr&gt; | Medu &lt;int&gt; | Fedu &lt;int&gt; | Mjob &lt;chr&gt; | Fjob &lt;chr&gt; | ⋯ ⋯ | famrel &lt;int&gt; | freetime &lt;int&gt; | goout &lt;int&gt; | Dalc &lt;int&gt; | Walc &lt;int&gt; | health &lt;int&gt; | absences &lt;int&gt; | G1 &lt;int&gt; | G2 &lt;int&gt; | G3 &lt;int&gt; |\n",
       "|---|---|---|---|---|---|---|---|---|---|---|---|---|---|---|---|---|---|---|---|---|\n",
       "| GP | F | 18 | U | GT3 | A | 4 | 4 | at_home | teacher | ⋯ | 4 | 3 | 4 | 1 | 1 | 3 |  6 | 5 | 6 |  6 |\n",
       "| GP | F | 17 | U | GT3 | T | 1 | 1 | at_home | other   | ⋯ | 5 | 3 | 3 | 1 | 1 | 3 |  4 | 5 | 5 |  6 |\n",
       "| GP | F | 15 | U | LE3 | T | 1 | 1 | at_home | other   | ⋯ | 4 | 3 | 2 | 2 | 3 | 3 | 10 | 7 | 8 | 10 |\n",
       "| ⋮ | ⋮ | ⋮ | ⋮ | ⋮ | ⋮ | ⋮ | ⋮ | ⋮ | ⋮ | ⋱ | ⋮ | ⋮ | ⋮ | ⋮ | ⋮ | ⋮ | ⋮ | ⋮ | ⋮ | ⋮ |\n",
       "| MS | M | 21 | R | GT3 | T | 1 | 1 | other    | other   | ⋯ | 5 | 5 | 3 | 3 | 3 | 3 | 3 | 10 |  8 |  7 |\n",
       "| MS | M | 18 | R | LE3 | T | 3 | 2 | services | other   | ⋯ | 4 | 4 | 1 | 3 | 4 | 5 | 0 | 11 | 12 | 10 |\n",
       "| MS | M | 19 | U | LE3 | T | 1 | 1 | other    | at_home | ⋯ | 3 | 2 | 3 | 3 | 3 | 5 | 5 |  8 |  9 |  9 |\n",
       "\n"
      ],
      "text/plain": [
       "    school sex age address famsize Pstatus Medu Fedu Mjob     Fjob    ⋯ famrel\n",
       "1   GP     F   18  U       GT3     A       4    4    at_home  teacher ⋯ 4     \n",
       "2   GP     F   17  U       GT3     T       1    1    at_home  other   ⋯ 5     \n",
       "3   GP     F   15  U       LE3     T       1    1    at_home  other   ⋯ 4     \n",
       "⋮   ⋮      ⋮   ⋮   ⋮       ⋮       ⋮       ⋮    ⋮    ⋮        ⋮       ⋱ ⋮     \n",
       "393 MS     M   21  R       GT3     T       1    1    other    other   ⋯ 5     \n",
       "394 MS     M   18  R       LE3     T       3    2    services other   ⋯ 4     \n",
       "395 MS     M   19  U       LE3     T       1    1    other    at_home ⋯ 3     \n",
       "    freetime goout Dalc Walc health absences G1 G2 G3\n",
       "1   3        4     1    1    3       6       5  6   6\n",
       "2   3        3     1    1    3       4       5  5   6\n",
       "3   3        2     2    3    3      10       7  8  10\n",
       "⋮   ⋮        ⋮     ⋮    ⋮    ⋮      ⋮        ⋮  ⋮  ⋮ \n",
       "393 5        3     3    3    3      3        10  8  7\n",
       "394 4        1     3    4    5      0        11 12 10\n",
       "395 2        3     3    3    5      5         8  9  9"
      ]
     },
     "metadata": {},
     "output_type": "display_data"
    },
    {
     "data": {
      "text/html": [
       "<table>\n",
       "<caption>A data.frame: 395 × 34</caption>\n",
       "<thead>\n",
       "\t<tr><th scope=col>school</th><th scope=col>sex</th><th scope=col>age</th><th scope=col>address</th><th scope=col>famsize</th><th scope=col>Pstatus</th><th scope=col>Medu</th><th scope=col>Fedu</th><th scope=col>Mjob</th><th scope=col>Fjob</th><th scope=col>⋯</th><th scope=col>freetime</th><th scope=col>goout</th><th scope=col>Dalc</th><th scope=col>Walc</th><th scope=col>health</th><th scope=col>absences</th><th scope=col>G1</th><th scope=col>G2</th><th scope=col>G3</th><th scope=col>GTotal</th></tr>\n",
       "\t<tr><th scope=col>&lt;chr&gt;</th><th scope=col>&lt;chr&gt;</th><th scope=col>&lt;int&gt;</th><th scope=col>&lt;chr&gt;</th><th scope=col>&lt;chr&gt;</th><th scope=col>&lt;chr&gt;</th><th scope=col>&lt;int&gt;</th><th scope=col>&lt;int&gt;</th><th scope=col>&lt;chr&gt;</th><th scope=col>&lt;chr&gt;</th><th scope=col>⋯</th><th scope=col>&lt;int&gt;</th><th scope=col>&lt;int&gt;</th><th scope=col>&lt;int&gt;</th><th scope=col>&lt;int&gt;</th><th scope=col>&lt;int&gt;</th><th scope=col>&lt;int&gt;</th><th scope=col>&lt;int&gt;</th><th scope=col>&lt;int&gt;</th><th scope=col>&lt;int&gt;</th><th scope=col>&lt;int&gt;</th></tr>\n",
       "</thead>\n",
       "<tbody>\n",
       "\t<tr><td>GP</td><td>F</td><td>18</td><td>U</td><td>GT3</td><td>A</td><td>4</td><td>4</td><td>at_home</td><td>teacher</td><td>⋯</td><td>3</td><td>4</td><td>1</td><td>1</td><td>3</td><td> 6</td><td>5</td><td>6</td><td> 6</td><td>17</td></tr>\n",
       "\t<tr><td>GP</td><td>F</td><td>17</td><td>U</td><td>GT3</td><td>T</td><td>1</td><td>1</td><td>at_home</td><td>other  </td><td>⋯</td><td>3</td><td>3</td><td>1</td><td>1</td><td>3</td><td> 4</td><td>5</td><td>5</td><td> 6</td><td>16</td></tr>\n",
       "\t<tr><td>GP</td><td>F</td><td>15</td><td>U</td><td>LE3</td><td>T</td><td>1</td><td>1</td><td>at_home</td><td>other  </td><td>⋯</td><td>3</td><td>2</td><td>2</td><td>3</td><td>3</td><td>10</td><td>7</td><td>8</td><td>10</td><td>25</td></tr>\n",
       "\t<tr><td>⋮</td><td>⋮</td><td>⋮</td><td>⋮</td><td>⋮</td><td>⋮</td><td>⋮</td><td>⋮</td><td>⋮</td><td>⋮</td><td>⋱</td><td>⋮</td><td>⋮</td><td>⋮</td><td>⋮</td><td>⋮</td><td>⋮</td><td>⋮</td><td>⋮</td><td>⋮</td><td>⋮</td></tr>\n",
       "\t<tr><td>MS</td><td>M</td><td>21</td><td>R</td><td>GT3</td><td>T</td><td>1</td><td>1</td><td>other   </td><td>other  </td><td>⋯</td><td>5</td><td>3</td><td>3</td><td>3</td><td>3</td><td>3</td><td>10</td><td> 8</td><td> 7</td><td>25</td></tr>\n",
       "\t<tr><td>MS</td><td>M</td><td>18</td><td>R</td><td>LE3</td><td>T</td><td>3</td><td>2</td><td>services</td><td>other  </td><td>⋯</td><td>4</td><td>1</td><td>3</td><td>4</td><td>5</td><td>0</td><td>11</td><td>12</td><td>10</td><td>33</td></tr>\n",
       "\t<tr><td>MS</td><td>M</td><td>19</td><td>U</td><td>LE3</td><td>T</td><td>1</td><td>1</td><td>other   </td><td>at_home</td><td>⋯</td><td>2</td><td>3</td><td>3</td><td>3</td><td>5</td><td>5</td><td> 8</td><td> 9</td><td> 9</td><td>26</td></tr>\n",
       "</tbody>\n",
       "</table>\n"
      ],
      "text/latex": [
       "A data.frame: 395 × 34\n",
       "\\begin{tabular}{lllllllllllllllllllll}\n",
       " school & sex & age & address & famsize & Pstatus & Medu & Fedu & Mjob & Fjob & ⋯ & freetime & goout & Dalc & Walc & health & absences & G1 & G2 & G3 & GTotal\\\\\n",
       " <chr> & <chr> & <int> & <chr> & <chr> & <chr> & <int> & <int> & <chr> & <chr> & ⋯ & <int> & <int> & <int> & <int> & <int> & <int> & <int> & <int> & <int> & <int>\\\\\n",
       "\\hline\n",
       "\t GP & F & 18 & U & GT3 & A & 4 & 4 & at\\_home & teacher & ⋯ & 3 & 4 & 1 & 1 & 3 &  6 & 5 & 6 &  6 & 17\\\\\n",
       "\t GP & F & 17 & U & GT3 & T & 1 & 1 & at\\_home & other   & ⋯ & 3 & 3 & 1 & 1 & 3 &  4 & 5 & 5 &  6 & 16\\\\\n",
       "\t GP & F & 15 & U & LE3 & T & 1 & 1 & at\\_home & other   & ⋯ & 3 & 2 & 2 & 3 & 3 & 10 & 7 & 8 & 10 & 25\\\\\n",
       "\t ⋮ & ⋮ & ⋮ & ⋮ & ⋮ & ⋮ & ⋮ & ⋮ & ⋮ & ⋮ & ⋱ & ⋮ & ⋮ & ⋮ & ⋮ & ⋮ & ⋮ & ⋮ & ⋮ & ⋮ & ⋮\\\\\n",
       "\t MS & M & 21 & R & GT3 & T & 1 & 1 & other    & other   & ⋯ & 5 & 3 & 3 & 3 & 3 & 3 & 10 &  8 &  7 & 25\\\\\n",
       "\t MS & M & 18 & R & LE3 & T & 3 & 2 & services & other   & ⋯ & 4 & 1 & 3 & 4 & 5 & 0 & 11 & 12 & 10 & 33\\\\\n",
       "\t MS & M & 19 & U & LE3 & T & 1 & 1 & other    & at\\_home & ⋯ & 2 & 3 & 3 & 3 & 5 & 5 &  8 &  9 &  9 & 26\\\\\n",
       "\\end{tabular}\n"
      ],
      "text/markdown": [
       "\n",
       "A data.frame: 395 × 34\n",
       "\n",
       "| school &lt;chr&gt; | sex &lt;chr&gt; | age &lt;int&gt; | address &lt;chr&gt; | famsize &lt;chr&gt; | Pstatus &lt;chr&gt; | Medu &lt;int&gt; | Fedu &lt;int&gt; | Mjob &lt;chr&gt; | Fjob &lt;chr&gt; | ⋯ ⋯ | freetime &lt;int&gt; | goout &lt;int&gt; | Dalc &lt;int&gt; | Walc &lt;int&gt; | health &lt;int&gt; | absences &lt;int&gt; | G1 &lt;int&gt; | G2 &lt;int&gt; | G3 &lt;int&gt; | GTotal &lt;int&gt; |\n",
       "|---|---|---|---|---|---|---|---|---|---|---|---|---|---|---|---|---|---|---|---|---|\n",
       "| GP | F | 18 | U | GT3 | A | 4 | 4 | at_home | teacher | ⋯ | 3 | 4 | 1 | 1 | 3 |  6 | 5 | 6 |  6 | 17 |\n",
       "| GP | F | 17 | U | GT3 | T | 1 | 1 | at_home | other   | ⋯ | 3 | 3 | 1 | 1 | 3 |  4 | 5 | 5 |  6 | 16 |\n",
       "| GP | F | 15 | U | LE3 | T | 1 | 1 | at_home | other   | ⋯ | 3 | 2 | 2 | 3 | 3 | 10 | 7 | 8 | 10 | 25 |\n",
       "| ⋮ | ⋮ | ⋮ | ⋮ | ⋮ | ⋮ | ⋮ | ⋮ | ⋮ | ⋮ | ⋱ | ⋮ | ⋮ | ⋮ | ⋮ | ⋮ | ⋮ | ⋮ | ⋮ | ⋮ | ⋮ |\n",
       "| MS | M | 21 | R | GT3 | T | 1 | 1 | other    | other   | ⋯ | 5 | 3 | 3 | 3 | 3 | 3 | 10 |  8 |  7 | 25 |\n",
       "| MS | M | 18 | R | LE3 | T | 3 | 2 | services | other   | ⋯ | 4 | 1 | 3 | 4 | 5 | 0 | 11 | 12 | 10 | 33 |\n",
       "| MS | M | 19 | U | LE3 | T | 1 | 1 | other    | at_home | ⋯ | 2 | 3 | 3 | 3 | 5 | 5 |  8 |  9 |  9 | 26 |\n",
       "\n"
      ],
      "text/plain": [
       "    school sex age address famsize Pstatus Medu Fedu Mjob     Fjob    ⋯\n",
       "1   GP     F   18  U       GT3     A       4    4    at_home  teacher ⋯\n",
       "2   GP     F   17  U       GT3     T       1    1    at_home  other   ⋯\n",
       "3   GP     F   15  U       LE3     T       1    1    at_home  other   ⋯\n",
       "⋮   ⋮      ⋮   ⋮   ⋮       ⋮       ⋮       ⋮    ⋮    ⋮        ⋮       ⋱\n",
       "393 MS     M   21  R       GT3     T       1    1    other    other   ⋯\n",
       "394 MS     M   18  R       LE3     T       3    2    services other   ⋯\n",
       "395 MS     M   19  U       LE3     T       1    1    other    at_home ⋯\n",
       "    freetime goout Dalc Walc health absences G1 G2 G3 GTotal\n",
       "1   3        4     1    1    3       6       5  6   6 17    \n",
       "2   3        3     1    1    3       4       5  5   6 16    \n",
       "3   3        2     2    3    3      10       7  8  10 25    \n",
       "⋮   ⋮        ⋮     ⋮    ⋮    ⋮      ⋮        ⋮  ⋮  ⋮  ⋮     \n",
       "393 5        3     3    3    3      3        10  8  7 25    \n",
       "394 4        1     3    4    5      0        11 12 10 33    \n",
       "395 2        3     3    3    5      5         8  9  9 26    "
      ]
     },
     "metadata": {},
     "output_type": "display_data"
    },
    {
     "data": {
      "text/html": [
       "<table>\n",
       "<caption>A data.frame: 298 × 34</caption>\n",
       "<thead>\n",
       "\t<tr><th></th><th scope=col>school</th><th scope=col>sex</th><th scope=col>age</th><th scope=col>address</th><th scope=col>famsize</th><th scope=col>Pstatus</th><th scope=col>Medu</th><th scope=col>Fedu</th><th scope=col>Mjob</th><th scope=col>Fjob</th><th scope=col>⋯</th><th scope=col>freetime</th><th scope=col>goout</th><th scope=col>Dalc</th><th scope=col>Walc</th><th scope=col>health</th><th scope=col>absences</th><th scope=col>G1</th><th scope=col>G2</th><th scope=col>G3</th><th scope=col>GTotal</th></tr>\n",
       "\t<tr><th></th><th scope=col>&lt;chr&gt;</th><th scope=col>&lt;chr&gt;</th><th scope=col>&lt;int&gt;</th><th scope=col>&lt;chr&gt;</th><th scope=col>&lt;chr&gt;</th><th scope=col>&lt;chr&gt;</th><th scope=col>&lt;int&gt;</th><th scope=col>&lt;int&gt;</th><th scope=col>&lt;chr&gt;</th><th scope=col>&lt;chr&gt;</th><th scope=col>⋯</th><th scope=col>&lt;int&gt;</th><th scope=col>&lt;int&gt;</th><th scope=col>&lt;int&gt;</th><th scope=col>&lt;int&gt;</th><th scope=col>&lt;int&gt;</th><th scope=col>&lt;int&gt;</th><th scope=col>&lt;int&gt;</th><th scope=col>&lt;int&gt;</th><th scope=col>&lt;int&gt;</th><th scope=col>&lt;int&gt;</th></tr>\n",
       "</thead>\n",
       "<tbody>\n",
       "\t<tr><th scope=row>2</th><td>GP</td><td>F</td><td>17</td><td>U</td><td>GT3</td><td>T</td><td>1</td><td>1</td><td>at_home</td><td>other</td><td>⋯</td><td>3</td><td>3</td><td>1</td><td>1</td><td>3</td><td> 4</td><td>5</td><td> 5</td><td> 6</td><td>16</td></tr>\n",
       "\t<tr><th scope=row>3</th><td>GP</td><td>F</td><td>15</td><td>U</td><td>LE3</td><td>T</td><td>1</td><td>1</td><td>at_home</td><td>other</td><td>⋯</td><td>3</td><td>2</td><td>2</td><td>3</td><td>3</td><td>10</td><td>7</td><td> 8</td><td>10</td><td>25</td></tr>\n",
       "\t<tr><th scope=row>5</th><td>GP</td><td>F</td><td>16</td><td>U</td><td>GT3</td><td>T</td><td>3</td><td>3</td><td>other  </td><td>other</td><td>⋯</td><td>3</td><td>2</td><td>1</td><td>2</td><td>5</td><td> 4</td><td>6</td><td>10</td><td>10</td><td>26</td></tr>\n",
       "\t<tr><th scope=row>⋮</th><td>⋮</td><td>⋮</td><td>⋮</td><td>⋮</td><td>⋮</td><td>⋮</td><td>⋮</td><td>⋮</td><td>⋮</td><td>⋮</td><td>⋱</td><td>⋮</td><td>⋮</td><td>⋮</td><td>⋮</td><td>⋮</td><td>⋮</td><td>⋮</td><td>⋮</td><td>⋮</td><td>⋮</td></tr>\n",
       "\t<tr><th scope=row>392</th><td>MS</td><td>M</td><td>17</td><td>U</td><td>LE3</td><td>T</td><td>3</td><td>1</td><td>services</td><td>services</td><td>⋯</td><td>4</td><td>5</td><td>3</td><td>4</td><td>2</td><td>3</td><td>14</td><td>16</td><td>16</td><td>46</td></tr>\n",
       "\t<tr><th scope=row>393</th><td>MS</td><td>M</td><td>21</td><td>R</td><td>GT3</td><td>T</td><td>1</td><td>1</td><td>other   </td><td>other   </td><td>⋯</td><td>5</td><td>3</td><td>3</td><td>3</td><td>3</td><td>3</td><td>10</td><td> 8</td><td> 7</td><td>25</td></tr>\n",
       "\t<tr><th scope=row>394</th><td>MS</td><td>M</td><td>18</td><td>R</td><td>LE3</td><td>T</td><td>3</td><td>2</td><td>services</td><td>other   </td><td>⋯</td><td>4</td><td>1</td><td>3</td><td>4</td><td>5</td><td>0</td><td>11</td><td>12</td><td>10</td><td>33</td></tr>\n",
       "</tbody>\n",
       "</table>\n"
      ],
      "text/latex": [
       "A data.frame: 298 × 34\n",
       "\\begin{tabular}{r|lllllllllllllllllllll}\n",
       "  & school & sex & age & address & famsize & Pstatus & Medu & Fedu & Mjob & Fjob & ⋯ & freetime & goout & Dalc & Walc & health & absences & G1 & G2 & G3 & GTotal\\\\\n",
       "  & <chr> & <chr> & <int> & <chr> & <chr> & <chr> & <int> & <int> & <chr> & <chr> & ⋯ & <int> & <int> & <int> & <int> & <int> & <int> & <int> & <int> & <int> & <int>\\\\\n",
       "\\hline\n",
       "\t2 & GP & F & 17 & U & GT3 & T & 1 & 1 & at\\_home & other & ⋯ & 3 & 3 & 1 & 1 & 3 &  4 & 5 &  5 &  6 & 16\\\\\n",
       "\t3 & GP & F & 15 & U & LE3 & T & 1 & 1 & at\\_home & other & ⋯ & 3 & 2 & 2 & 3 & 3 & 10 & 7 &  8 & 10 & 25\\\\\n",
       "\t5 & GP & F & 16 & U & GT3 & T & 3 & 3 & other   & other & ⋯ & 3 & 2 & 1 & 2 & 5 &  4 & 6 & 10 & 10 & 26\\\\\n",
       "\t⋮ & ⋮ & ⋮ & ⋮ & ⋮ & ⋮ & ⋮ & ⋮ & ⋮ & ⋮ & ⋮ & ⋱ & ⋮ & ⋮ & ⋮ & ⋮ & ⋮ & ⋮ & ⋮ & ⋮ & ⋮ & ⋮\\\\\n",
       "\t392 & MS & M & 17 & U & LE3 & T & 3 & 1 & services & services & ⋯ & 4 & 5 & 3 & 4 & 2 & 3 & 14 & 16 & 16 & 46\\\\\n",
       "\t393 & MS & M & 21 & R & GT3 & T & 1 & 1 & other    & other    & ⋯ & 5 & 3 & 3 & 3 & 3 & 3 & 10 &  8 &  7 & 25\\\\\n",
       "\t394 & MS & M & 18 & R & LE3 & T & 3 & 2 & services & other    & ⋯ & 4 & 1 & 3 & 4 & 5 & 0 & 11 & 12 & 10 & 33\\\\\n",
       "\\end{tabular}\n"
      ],
      "text/markdown": [
       "\n",
       "A data.frame: 298 × 34\n",
       "\n",
       "| <!--/--> | school &lt;chr&gt; | sex &lt;chr&gt; | age &lt;int&gt; | address &lt;chr&gt; | famsize &lt;chr&gt; | Pstatus &lt;chr&gt; | Medu &lt;int&gt; | Fedu &lt;int&gt; | Mjob &lt;chr&gt; | Fjob &lt;chr&gt; | ⋯ ⋯ | freetime &lt;int&gt; | goout &lt;int&gt; | Dalc &lt;int&gt; | Walc &lt;int&gt; | health &lt;int&gt; | absences &lt;int&gt; | G1 &lt;int&gt; | G2 &lt;int&gt; | G3 &lt;int&gt; | GTotal &lt;int&gt; |\n",
       "|---|---|---|---|---|---|---|---|---|---|---|---|---|---|---|---|---|---|---|---|---|---|\n",
       "| 2 | GP | F | 17 | U | GT3 | T | 1 | 1 | at_home | other | ⋯ | 3 | 3 | 1 | 1 | 3 |  4 | 5 |  5 |  6 | 16 |\n",
       "| 3 | GP | F | 15 | U | LE3 | T | 1 | 1 | at_home | other | ⋯ | 3 | 2 | 2 | 3 | 3 | 10 | 7 |  8 | 10 | 25 |\n",
       "| 5 | GP | F | 16 | U | GT3 | T | 3 | 3 | other   | other | ⋯ | 3 | 2 | 1 | 2 | 5 |  4 | 6 | 10 | 10 | 26 |\n",
       "| ⋮ | ⋮ | ⋮ | ⋮ | ⋮ | ⋮ | ⋮ | ⋮ | ⋮ | ⋮ | ⋮ | ⋱ | ⋮ | ⋮ | ⋮ | ⋮ | ⋮ | ⋮ | ⋮ | ⋮ | ⋮ | ⋮ |\n",
       "| 392 | MS | M | 17 | U | LE3 | T | 3 | 1 | services | services | ⋯ | 4 | 5 | 3 | 4 | 2 | 3 | 14 | 16 | 16 | 46 |\n",
       "| 393 | MS | M | 21 | R | GT3 | T | 1 | 1 | other    | other    | ⋯ | 5 | 3 | 3 | 3 | 3 | 3 | 10 |  8 |  7 | 25 |\n",
       "| 394 | MS | M | 18 | R | LE3 | T | 3 | 2 | services | other    | ⋯ | 4 | 1 | 3 | 4 | 5 | 0 | 11 | 12 | 10 | 33 |\n",
       "\n"
      ],
      "text/plain": [
       "    school sex age address famsize Pstatus Medu Fedu Mjob     Fjob     ⋯\n",
       "2   GP     F   17  U       GT3     T       1    1    at_home  other    ⋯\n",
       "3   GP     F   15  U       LE3     T       1    1    at_home  other    ⋯\n",
       "5   GP     F   16  U       GT3     T       3    3    other    other    ⋯\n",
       "⋮   ⋮      ⋮   ⋮   ⋮       ⋮       ⋮       ⋮    ⋮    ⋮        ⋮        ⋱\n",
       "392 MS     M   17  U       LE3     T       3    1    services services ⋯\n",
       "393 MS     M   21  R       GT3     T       1    1    other    other    ⋯\n",
       "394 MS     M   18  R       LE3     T       3    2    services other    ⋯\n",
       "    freetime goout Dalc Walc health absences G1 G2 G3 GTotal\n",
       "2   3        3     1    1    3       4       5   5  6 16    \n",
       "3   3        2     2    3    3      10       7   8 10 25    \n",
       "5   3        2     1    2    5       4       6  10 10 26    \n",
       "⋮   ⋮        ⋮     ⋮    ⋮    ⋮      ⋮        ⋮  ⋮  ⋮  ⋮     \n",
       "392 4        5     3    4    2      3        14 16 16 46    \n",
       "393 5        3     3    3    3      3        10  8  7 25    \n",
       "394 4        1     3    4    5      0        11 12 10 33    "
      ]
     },
     "metadata": {},
     "output_type": "display_data"
    },
    {
     "data": {
      "text/html": [
       "<table>\n",
       "<caption>A data.frame: 97 × 34</caption>\n",
       "<thead>\n",
       "\t<tr><th></th><th scope=col>school</th><th scope=col>sex</th><th scope=col>age</th><th scope=col>address</th><th scope=col>famsize</th><th scope=col>Pstatus</th><th scope=col>Medu</th><th scope=col>Fedu</th><th scope=col>Mjob</th><th scope=col>Fjob</th><th scope=col>⋯</th><th scope=col>freetime</th><th scope=col>goout</th><th scope=col>Dalc</th><th scope=col>Walc</th><th scope=col>health</th><th scope=col>absences</th><th scope=col>G1</th><th scope=col>G2</th><th scope=col>G3</th><th scope=col>GTotal</th></tr>\n",
       "\t<tr><th></th><th scope=col>&lt;chr&gt;</th><th scope=col>&lt;chr&gt;</th><th scope=col>&lt;int&gt;</th><th scope=col>&lt;chr&gt;</th><th scope=col>&lt;chr&gt;</th><th scope=col>&lt;chr&gt;</th><th scope=col>&lt;int&gt;</th><th scope=col>&lt;int&gt;</th><th scope=col>&lt;chr&gt;</th><th scope=col>&lt;chr&gt;</th><th scope=col>⋯</th><th scope=col>&lt;int&gt;</th><th scope=col>&lt;int&gt;</th><th scope=col>&lt;int&gt;</th><th scope=col>&lt;int&gt;</th><th scope=col>&lt;int&gt;</th><th scope=col>&lt;int&gt;</th><th scope=col>&lt;int&gt;</th><th scope=col>&lt;int&gt;</th><th scope=col>&lt;int&gt;</th><th scope=col>&lt;int&gt;</th></tr>\n",
       "</thead>\n",
       "<tbody>\n",
       "\t<tr><th scope=row>1</th><td>GP</td><td>F</td><td>18</td><td>U</td><td>GT3</td><td>A</td><td>4</td><td>4</td><td>at_home</td><td>teacher </td><td>⋯</td><td>3</td><td>4</td><td>1</td><td>1</td><td>3</td><td>6</td><td> 5</td><td> 6</td><td> 6</td><td>17</td></tr>\n",
       "\t<tr><th scope=row>4</th><td>GP</td><td>F</td><td>15</td><td>U</td><td>GT3</td><td>T</td><td>4</td><td>2</td><td>health </td><td>services</td><td>⋯</td><td>2</td><td>2</td><td>1</td><td>1</td><td>5</td><td>2</td><td>15</td><td>14</td><td>15</td><td>44</td></tr>\n",
       "\t<tr><th scope=row>11</th><td>GP</td><td>F</td><td>15</td><td>U</td><td>GT3</td><td>T</td><td>4</td><td>4</td><td>teacher</td><td>health  </td><td>⋯</td><td>3</td><td>3</td><td>1</td><td>2</td><td>2</td><td>0</td><td>10</td><td> 8</td><td> 9</td><td>27</td></tr>\n",
       "\t<tr><th scope=row>⋮</th><td>⋮</td><td>⋮</td><td>⋮</td><td>⋮</td><td>⋮</td><td>⋮</td><td>⋮</td><td>⋮</td><td>⋮</td><td>⋮</td><td>⋱</td><td>⋮</td><td>⋮</td><td>⋮</td><td>⋮</td><td>⋮</td><td>⋮</td><td>⋮</td><td>⋮</td><td>⋮</td><td>⋮</td></tr>\n",
       "\t<tr><th scope=row>387</th><td>MS</td><td>F</td><td>18</td><td>R</td><td>GT3</td><td>T</td><td>4</td><td>4</td><td>teacher </td><td>at_home</td><td>⋯</td><td>4</td><td>3</td><td>2</td><td>2</td><td>5</td><td>7</td><td>6</td><td>5</td><td>6</td><td>17</td></tr>\n",
       "\t<tr><th scope=row>388</th><td>MS</td><td>F</td><td>19</td><td>R</td><td>GT3</td><td>T</td><td>2</td><td>3</td><td>services</td><td>other  </td><td>⋯</td><td>4</td><td>2</td><td>1</td><td>2</td><td>5</td><td>0</td><td>7</td><td>5</td><td>0</td><td>12</td></tr>\n",
       "\t<tr><th scope=row>395</th><td>MS</td><td>M</td><td>19</td><td>U</td><td>LE3</td><td>T</td><td>1</td><td>1</td><td>other   </td><td>at_home</td><td>⋯</td><td>2</td><td>3</td><td>3</td><td>3</td><td>5</td><td>5</td><td>8</td><td>9</td><td>9</td><td>26</td></tr>\n",
       "</tbody>\n",
       "</table>\n"
      ],
      "text/latex": [
       "A data.frame: 97 × 34\n",
       "\\begin{tabular}{r|lllllllllllllllllllll}\n",
       "  & school & sex & age & address & famsize & Pstatus & Medu & Fedu & Mjob & Fjob & ⋯ & freetime & goout & Dalc & Walc & health & absences & G1 & G2 & G3 & GTotal\\\\\n",
       "  & <chr> & <chr> & <int> & <chr> & <chr> & <chr> & <int> & <int> & <chr> & <chr> & ⋯ & <int> & <int> & <int> & <int> & <int> & <int> & <int> & <int> & <int> & <int>\\\\\n",
       "\\hline\n",
       "\t1 & GP & F & 18 & U & GT3 & A & 4 & 4 & at\\_home & teacher  & ⋯ & 3 & 4 & 1 & 1 & 3 & 6 &  5 &  6 &  6 & 17\\\\\n",
       "\t4 & GP & F & 15 & U & GT3 & T & 4 & 2 & health  & services & ⋯ & 2 & 2 & 1 & 1 & 5 & 2 & 15 & 14 & 15 & 44\\\\\n",
       "\t11 & GP & F & 15 & U & GT3 & T & 4 & 4 & teacher & health   & ⋯ & 3 & 3 & 1 & 2 & 2 & 0 & 10 &  8 &  9 & 27\\\\\n",
       "\t⋮ & ⋮ & ⋮ & ⋮ & ⋮ & ⋮ & ⋮ & ⋮ & ⋮ & ⋮ & ⋮ & ⋱ & ⋮ & ⋮ & ⋮ & ⋮ & ⋮ & ⋮ & ⋮ & ⋮ & ⋮ & ⋮\\\\\n",
       "\t387 & MS & F & 18 & R & GT3 & T & 4 & 4 & teacher  & at\\_home & ⋯ & 4 & 3 & 2 & 2 & 5 & 7 & 6 & 5 & 6 & 17\\\\\n",
       "\t388 & MS & F & 19 & R & GT3 & T & 2 & 3 & services & other   & ⋯ & 4 & 2 & 1 & 2 & 5 & 0 & 7 & 5 & 0 & 12\\\\\n",
       "\t395 & MS & M & 19 & U & LE3 & T & 1 & 1 & other    & at\\_home & ⋯ & 2 & 3 & 3 & 3 & 5 & 5 & 8 & 9 & 9 & 26\\\\\n",
       "\\end{tabular}\n"
      ],
      "text/markdown": [
       "\n",
       "A data.frame: 97 × 34\n",
       "\n",
       "| <!--/--> | school &lt;chr&gt; | sex &lt;chr&gt; | age &lt;int&gt; | address &lt;chr&gt; | famsize &lt;chr&gt; | Pstatus &lt;chr&gt; | Medu &lt;int&gt; | Fedu &lt;int&gt; | Mjob &lt;chr&gt; | Fjob &lt;chr&gt; | ⋯ ⋯ | freetime &lt;int&gt; | goout &lt;int&gt; | Dalc &lt;int&gt; | Walc &lt;int&gt; | health &lt;int&gt; | absences &lt;int&gt; | G1 &lt;int&gt; | G2 &lt;int&gt; | G3 &lt;int&gt; | GTotal &lt;int&gt; |\n",
       "|---|---|---|---|---|---|---|---|---|---|---|---|---|---|---|---|---|---|---|---|---|---|\n",
       "| 1 | GP | F | 18 | U | GT3 | A | 4 | 4 | at_home | teacher  | ⋯ | 3 | 4 | 1 | 1 | 3 | 6 |  5 |  6 |  6 | 17 |\n",
       "| 4 | GP | F | 15 | U | GT3 | T | 4 | 2 | health  | services | ⋯ | 2 | 2 | 1 | 1 | 5 | 2 | 15 | 14 | 15 | 44 |\n",
       "| 11 | GP | F | 15 | U | GT3 | T | 4 | 4 | teacher | health   | ⋯ | 3 | 3 | 1 | 2 | 2 | 0 | 10 |  8 |  9 | 27 |\n",
       "| ⋮ | ⋮ | ⋮ | ⋮ | ⋮ | ⋮ | ⋮ | ⋮ | ⋮ | ⋮ | ⋮ | ⋱ | ⋮ | ⋮ | ⋮ | ⋮ | ⋮ | ⋮ | ⋮ | ⋮ | ⋮ | ⋮ |\n",
       "| 387 | MS | F | 18 | R | GT3 | T | 4 | 4 | teacher  | at_home | ⋯ | 4 | 3 | 2 | 2 | 5 | 7 | 6 | 5 | 6 | 17 |\n",
       "| 388 | MS | F | 19 | R | GT3 | T | 2 | 3 | services | other   | ⋯ | 4 | 2 | 1 | 2 | 5 | 0 | 7 | 5 | 0 | 12 |\n",
       "| 395 | MS | M | 19 | U | LE3 | T | 1 | 1 | other    | at_home | ⋯ | 2 | 3 | 3 | 3 | 5 | 5 | 8 | 9 | 9 | 26 |\n",
       "\n"
      ],
      "text/plain": [
       "    school sex age address famsize Pstatus Medu Fedu Mjob     Fjob     ⋯\n",
       "1   GP     F   18  U       GT3     A       4    4    at_home  teacher  ⋯\n",
       "4   GP     F   15  U       GT3     T       4    2    health   services ⋯\n",
       "11  GP     F   15  U       GT3     T       4    4    teacher  health   ⋯\n",
       "⋮   ⋮      ⋮   ⋮   ⋮       ⋮       ⋮       ⋮    ⋮    ⋮        ⋮        ⋱\n",
       "387 MS     F   18  R       GT3     T       4    4    teacher  at_home  ⋯\n",
       "388 MS     F   19  R       GT3     T       2    3    services other    ⋯\n",
       "395 MS     M   19  U       LE3     T       1    1    other    at_home  ⋯\n",
       "    freetime goout Dalc Walc health absences G1 G2 G3 GTotal\n",
       "1   3        4     1    1    3      6         5  6  6 17    \n",
       "4   2        2     1    1    5      2        15 14 15 44    \n",
       "11  3        3     1    2    2      0        10  8  9 27    \n",
       "⋮   ⋮        ⋮     ⋮    ⋮    ⋮      ⋮        ⋮  ⋮  ⋮  ⋮     \n",
       "387 4        3     2    2    5      7        6  5  6  17    \n",
       "388 4        2     1    2    5      0        7  5  0  12    \n",
       "395 2        3     3    3    5      5        8  9  9  26    "
      ]
     },
     "metadata": {},
     "output_type": "display_data"
    },
    {
     "data": {
      "text/html": [
       "<table>\n",
       "<caption>A data.frame: 1 × 2</caption>\n",
       "<thead>\n",
       "\t<tr><th scope=col>absence_mean</th><th scope=col>GTotal_mean</th></tr>\n",
       "\t<tr><th scope=col>&lt;dbl&gt;</th><th scope=col>&lt;dbl&gt;</th></tr>\n",
       "</thead>\n",
       "<tbody>\n",
       "\t<tr><td>5.989933</td><td>32.20805</td></tr>\n",
       "</tbody>\n",
       "</table>\n"
      ],
      "text/latex": [
       "A data.frame: 1 × 2\n",
       "\\begin{tabular}{ll}\n",
       " absence\\_mean & GTotal\\_mean\\\\\n",
       " <dbl> & <dbl>\\\\\n",
       "\\hline\n",
       "\t 5.989933 & 32.20805\\\\\n",
       "\\end{tabular}\n"
      ],
      "text/markdown": [
       "\n",
       "A data.frame: 1 × 2\n",
       "\n",
       "| absence_mean &lt;dbl&gt; | GTotal_mean &lt;dbl&gt; |\n",
       "|---|---|\n",
       "| 5.989933 | 32.20805 |\n",
       "\n"
      ],
      "text/plain": [
       "  absence_mean GTotal_mean\n",
       "1 5.989933     32.20805   "
      ]
     },
     "metadata": {},
     "output_type": "display_data"
    },
    {
     "data": {
      "text/html": [
       "<table>\n",
       "<caption>A data.frame: 1 × 2</caption>\n",
       "<thead>\n",
       "\t<tr><th scope=col>school_min</th><th scope=col>G_min</th></tr>\n",
       "\t<tr><th scope=col>&lt;int&gt;</th><th scope=col>&lt;int&gt;</th></tr>\n",
       "</thead>\n",
       "<tbody>\n",
       "\t<tr><td>0</td><td>6</td></tr>\n",
       "</tbody>\n",
       "</table>\n"
      ],
      "text/latex": [
       "A data.frame: 1 × 2\n",
       "\\begin{tabular}{ll}\n",
       " school\\_min & G\\_min\\\\\n",
       " <int> & <int>\\\\\n",
       "\\hline\n",
       "\t 0 & 6\\\\\n",
       "\\end{tabular}\n"
      ],
      "text/markdown": [
       "\n",
       "A data.frame: 1 × 2\n",
       "\n",
       "| school_min &lt;int&gt; | G_min &lt;int&gt; |\n",
       "|---|---|\n",
       "| 0 | 6 |\n",
       "\n"
      ],
      "text/plain": [
       "  school_min G_min\n",
       "1 0          6    "
      ]
     },
     "metadata": {},
     "output_type": "display_data"
    },
    {
     "data": {
      "text/html": [
       "<table>\n",
       "<caption>A data.frame: 1 × 2</caption>\n",
       "<thead>\n",
       "\t<tr><th scope=col>school_max</th><th scope=col>G_max</th></tr>\n",
       "\t<tr><th scope=col>&lt;int&gt;</th><th scope=col>&lt;int&gt;</th></tr>\n",
       "</thead>\n",
       "<tbody>\n",
       "\t<tr><td>75</td><td>58</td></tr>\n",
       "</tbody>\n",
       "</table>\n"
      ],
      "text/latex": [
       "A data.frame: 1 × 2\n",
       "\\begin{tabular}{ll}\n",
       " school\\_max & G\\_max\\\\\n",
       " <int> & <int>\\\\\n",
       "\\hline\n",
       "\t 75 & 58\\\\\n",
       "\\end{tabular}\n"
      ],
      "text/markdown": [
       "\n",
       "A data.frame: 1 × 2\n",
       "\n",
       "| school_max &lt;int&gt; | G_max &lt;int&gt; |\n",
       "|---|---|\n",
       "| 75 | 58 |\n",
       "\n"
      ],
      "text/plain": [
       "  school_max G_max\n",
       "1 75         58   "
      ]
     },
     "metadata": {},
     "output_type": "display_data"
    },
    {
     "data": {
      "image/png": "[encoded data removed]",
      "text/plain": [
       "plot without title"
      ]
     },
     "metadata": {
      "image/png": {
       "height": 420,
       "width": 420
      }
     },
     "output_type": "display_data"
    }
   ],
   "source": [
    "library(repr)\n",
    "library(tidyverse)\n",
    "library(tidymodels)\n",
    "options(repr.matrix.max.rows = 6)\n",
    "\n",
    "school_data <- read.table(\"https://raw.githubusercontent.com/adamg20/raw-data/main/school%20data\", sep = \";\", header = TRUE)\n",
    "school_data\n",
    "\n",
    "school_data2 <- school_data %>%\n",
    "    mutate(GTotal = G1 + G2 + G3)\n",
    "school_data2\n",
    "\n",
    "set.seed(1)\n",
    "school_split <- initial_split(school_data2, prop = 0.75, strata = GTotal)\n",
    "school_train <- training(school_split)\n",
    "school_test <- testing(school_split)\n",
    "school_train\n",
    "school_test\n",
    "\n",
    "\n",
    "means <- summarize(school_train, absence_mean = mean(absences), GTotal_mean = mean(GTotal))\n",
    "means\n",
    "\n",
    "school_plot <- ggplot(school_train, aes(x = GTotal, y = absences)) +\n",
    "    geom_point(alpha = 0.3) +\n",
    "    xlab(\"Total Grade\") +\n",
    "    ylab(\"Absences\") +\n",
    "    theme(text = element_text(size = 20))\n",
    "school_plot\n",
    "\n",
    "min = summarize(school_train, school_min = min(absences), G_min = min(GTotal))\n",
    "min\n",
    "\n",
    "max = summarize(school_train, school_max = max(absences), G_max = max(GTotal))\n",
    "max"
   ]
  },
  {
   "cell_type": "code",
   "execution_count": 15,
   "metadata": {},
   "outputs": [
    {
     "data": {
      "text/plain": [
       "Data Recipe\n",
       "\n",
       "Inputs:\n",
       "\n",
       "      role #variables\n",
       "   outcome          1\n",
       " predictor          1\n",
       "\n",
       "Operations:\n",
       "\n",
       "Scaling for all_predictors()\n",
       "Centering for all_predictors()"
      ]
     },
     "metadata": {},
     "output_type": "display_data"
    },
    {
     "data": {
      "text/html": [
       "<table>\n",
       "<caption>A tibble: 300 × 7</caption>\n",
       "<thead>\n",
       "\t<tr><th scope=col>neighbors</th><th scope=col>.metric</th><th scope=col>.estimator</th><th scope=col>mean</th><th scope=col>n</th><th scope=col>std_err</th><th scope=col>.config</th></tr>\n",
       "\t<tr><th scope=col>&lt;int&gt;</th><th scope=col>&lt;chr&gt;</th><th scope=col>&lt;chr&gt;</th><th scope=col>&lt;dbl&gt;</th><th scope=col>&lt;int&gt;</th><th scope=col>&lt;dbl&gt;</th><th scope=col>&lt;chr&gt;</th></tr>\n",
       "</thead>\n",
       "<tbody>\n",
       "\t<tr><td>1</td><td>rmse</td><td>standard</td><td>16.792343412</td><td>5</td><td>1.010261536</td><td>Model001</td></tr>\n",
       "\t<tr><td>1</td><td>rsq </td><td>standard</td><td> 0.005546034</td><td>5</td><td>0.002333786</td><td>Model001</td></tr>\n",
       "\t<tr><td>2</td><td>rmse</td><td>standard</td><td>14.825068062</td><td>5</td><td>0.737156680</td><td>Model002</td></tr>\n",
       "\t<tr><td>⋮</td><td>⋮</td><td>⋮</td><td>⋮</td><td>⋮</td><td>⋮</td><td>⋮</td></tr>\n",
       "\t<tr><td>149</td><td>rsq </td><td>standard</td><td> 0.002555423</td><td>5</td><td>0.001212824</td><td>Model149</td></tr>\n",
       "\t<tr><td>150</td><td>rmse</td><td>standard</td><td>10.959907521</td><td>5</td><td>0.261732850</td><td>Model150</td></tr>\n",
       "\t<tr><td>150</td><td>rsq </td><td>standard</td><td> 0.002180709</td><td>5</td><td>0.001217783</td><td>Model150</td></tr>\n",
       "</tbody>\n",
       "</table>\n"
      ],
      "text/latex": [
       "A tibble: 300 × 7\n",
       "\\begin{tabular}{lllllll}\n",
       " neighbors & .metric & .estimator & mean & n & std\\_err & .config\\\\\n",
       " <int> & <chr> & <chr> & <dbl> & <int> & <dbl> & <chr>\\\\\n",
       "\\hline\n",
       "\t 1 & rmse & standard & 16.792343412 & 5 & 1.010261536 & Model001\\\\\n",
       "\t 1 & rsq  & standard &  0.005546034 & 5 & 0.002333786 & Model001\\\\\n",
       "\t 2 & rmse & standard & 14.825068062 & 5 & 0.737156680 & Model002\\\\\n",
       "\t ⋮ & ⋮ & ⋮ & ⋮ & ⋮ & ⋮ & ⋮\\\\\n",
       "\t 149 & rsq  & standard &  0.002555423 & 5 & 0.001212824 & Model149\\\\\n",
       "\t 150 & rmse & standard & 10.959907521 & 5 & 0.261732850 & Model150\\\\\n",
       "\t 150 & rsq  & standard &  0.002180709 & 5 & 0.001217783 & Model150\\\\\n",
       "\\end{tabular}\n"
      ],
      "text/markdown": [
       "\n",
       "A tibble: 300 × 7\n",
       "\n",
       "| neighbors &lt;int&gt; | .metric &lt;chr&gt; | .estimator &lt;chr&gt; | mean &lt;dbl&gt; | n &lt;int&gt; | std_err &lt;dbl&gt; | .config &lt;chr&gt; |\n",
       "|---|---|---|---|---|---|---|\n",
       "| 1 | rmse | standard | 16.792343412 | 5 | 1.010261536 | Model001 |\n",
       "| 1 | rsq  | standard |  0.005546034 | 5 | 0.002333786 | Model001 |\n",
       "| 2 | rmse | standard | 14.825068062 | 5 | 0.737156680 | Model002 |\n",
       "| ⋮ | ⋮ | ⋮ | ⋮ | ⋮ | ⋮ | ⋮ |\n",
       "| 149 | rsq  | standard |  0.002555423 | 5 | 0.001212824 | Model149 |\n",
       "| 150 | rmse | standard | 10.959907521 | 5 | 0.261732850 | Model150 |\n",
       "| 150 | rsq  | standard |  0.002180709 | 5 | 0.001217783 | Model150 |\n",
       "\n"
      ],
      "text/plain": [
       "    neighbors .metric .estimator mean         n std_err     .config \n",
       "1   1         rmse    standard   16.792343412 5 1.010261536 Model001\n",
       "2   1         rsq     standard    0.005546034 5 0.002333786 Model001\n",
       "3   2         rmse    standard   14.825068062 5 0.737156680 Model002\n",
       "⋮   ⋮         ⋮       ⋮          ⋮            ⋮ ⋮           ⋮       \n",
       "298 149       rsq     standard    0.002555423 5 0.001212824 Model149\n",
       "299 150       rmse    standard   10.959907521 5 0.261732850 Model150\n",
       "300 150       rsq     standard    0.002180709 5 0.001217783 Model150"
      ]
     },
     "metadata": {},
     "output_type": "display_data"
    },
    {
     "data": {
      "text/html": [
       "<table>\n",
       "<caption>A tibble: 150 × 7</caption>\n",
       "<thead>\n",
       "\t<tr><th scope=col>neighbors</th><th scope=col>.metric</th><th scope=col>.estimator</th><th scope=col>mean</th><th scope=col>n</th><th scope=col>std_err</th><th scope=col>.config</th></tr>\n",
       "\t<tr><th scope=col>&lt;int&gt;</th><th scope=col>&lt;chr&gt;</th><th scope=col>&lt;chr&gt;</th><th scope=col>&lt;dbl&gt;</th><th scope=col>&lt;int&gt;</th><th scope=col>&lt;dbl&gt;</th><th scope=col>&lt;chr&gt;</th></tr>\n",
       "</thead>\n",
       "<tbody>\n",
       "\t<tr><td>1</td><td>rmse</td><td>standard</td><td>16.79234</td><td>5</td><td>1.0102615</td><td>Model001</td></tr>\n",
       "\t<tr><td>2</td><td>rmse</td><td>standard</td><td>14.82507</td><td>5</td><td>0.7371567</td><td>Model002</td></tr>\n",
       "\t<tr><td>3</td><td>rmse</td><td>standard</td><td>14.07697</td><td>5</td><td>0.8054098</td><td>Model003</td></tr>\n",
       "\t<tr><td>⋮</td><td>⋮</td><td>⋮</td><td>⋮</td><td>⋮</td><td>⋮</td><td>⋮</td></tr>\n",
       "\t<tr><td>148</td><td>rmse</td><td>standard</td><td>10.95341</td><td>5</td><td>0.2582953</td><td>Model148</td></tr>\n",
       "\t<tr><td>149</td><td>rmse</td><td>standard</td><td>10.96436</td><td>5</td><td>0.2594236</td><td>Model149</td></tr>\n",
       "\t<tr><td>150</td><td>rmse</td><td>standard</td><td>10.95991</td><td>5</td><td>0.2617329</td><td>Model150</td></tr>\n",
       "</tbody>\n",
       "</table>\n"
      ],
      "text/latex": [
       "A tibble: 150 × 7\n",
       "\\begin{tabular}{lllllll}\n",
       " neighbors & .metric & .estimator & mean & n & std\\_err & .config\\\\\n",
       " <int> & <chr> & <chr> & <dbl> & <int> & <dbl> & <chr>\\\\\n",
       "\\hline\n",
       "\t 1 & rmse & standard & 16.79234 & 5 & 1.0102615 & Model001\\\\\n",
       "\t 2 & rmse & standard & 14.82507 & 5 & 0.7371567 & Model002\\\\\n",
       "\t 3 & rmse & standard & 14.07697 & 5 & 0.8054098 & Model003\\\\\n",
       "\t ⋮ & ⋮ & ⋮ & ⋮ & ⋮ & ⋮ & ⋮\\\\\n",
       "\t 148 & rmse & standard & 10.95341 & 5 & 0.2582953 & Model148\\\\\n",
       "\t 149 & rmse & standard & 10.96436 & 5 & 0.2594236 & Model149\\\\\n",
       "\t 150 & rmse & standard & 10.95991 & 5 & 0.2617329 & Model150\\\\\n",
       "\\end{tabular}\n"
      ],
      "text/markdown": [
       "\n",
       "A tibble: 150 × 7\n",
       "\n",
       "| neighbors &lt;int&gt; | .metric &lt;chr&gt; | .estimator &lt;chr&gt; | mean &lt;dbl&gt; | n &lt;int&gt; | std_err &lt;dbl&gt; | .config &lt;chr&gt; |\n",
       "|---|---|---|---|---|---|---|\n",
       "| 1 | rmse | standard | 16.79234 | 5 | 1.0102615 | Model001 |\n",
       "| 2 | rmse | standard | 14.82507 | 5 | 0.7371567 | Model002 |\n",
       "| 3 | rmse | standard | 14.07697 | 5 | 0.8054098 | Model003 |\n",
       "| ⋮ | ⋮ | ⋮ | ⋮ | ⋮ | ⋮ | ⋮ |\n",
       "| 148 | rmse | standard | 10.95341 | 5 | 0.2582953 | Model148 |\n",
       "| 149 | rmse | standard | 10.96436 | 5 | 0.2594236 | Model149 |\n",
       "| 150 | rmse | standard | 10.95991 | 5 | 0.2617329 | Model150 |\n",
       "\n"
      ],
      "text/plain": [
       "    neighbors .metric .estimator mean     n std_err   .config \n",
       "1   1         rmse    standard   16.79234 5 1.0102615 Model001\n",
       "2   2         rmse    standard   14.82507 5 0.7371567 Model002\n",
       "3   3         rmse    standard   14.07697 5 0.8054098 Model003\n",
       "⋮   ⋮         ⋮       ⋮          ⋮        ⋮ ⋮         ⋮       \n",
       "148 148       rmse    standard   10.95341 5 0.2582953 Model148\n",
       "149 149       rmse    standard   10.96436 5 0.2594236 Model149\n",
       "150 150       rmse    standard   10.95991 5 0.2617329 Model150"
      ]
     },
     "metadata": {},
     "output_type": "display_data"
    },
    {
     "data": {
      "text/html": [
       "<table>\n",
       "<caption>A tibble: 1 × 7</caption>\n",
       "<thead>\n",
       "\t<tr><th scope=col>neighbors</th><th scope=col>.metric</th><th scope=col>.estimator</th><th scope=col>mean</th><th scope=col>n</th><th scope=col>std_err</th><th scope=col>.config</th></tr>\n",
       "\t<tr><th scope=col>&lt;int&gt;</th><th scope=col>&lt;chr&gt;</th><th scope=col>&lt;chr&gt;</th><th scope=col>&lt;dbl&gt;</th><th scope=col>&lt;int&gt;</th><th scope=col>&lt;dbl&gt;</th><th scope=col>&lt;chr&gt;</th></tr>\n",
       "</thead>\n",
       "<tbody>\n",
       "\t<tr><td>56</td><td>rmse</td><td>standard</td><td>10.74326</td><td>5</td><td>0.2232853</td><td>Model056</td></tr>\n",
       "</tbody>\n",
       "</table>\n"
      ],
      "text/latex": [
       "A tibble: 1 × 7\n",
       "\\begin{tabular}{lllllll}\n",
       " neighbors & .metric & .estimator & mean & n & std\\_err & .config\\\\\n",
       " <int> & <chr> & <chr> & <dbl> & <int> & <dbl> & <chr>\\\\\n",
       "\\hline\n",
       "\t 56 & rmse & standard & 10.74326 & 5 & 0.2232853 & Model056\\\\\n",
       "\\end{tabular}\n"
      ],
      "text/markdown": [
       "\n",
       "A tibble: 1 × 7\n",
       "\n",
       "| neighbors &lt;int&gt; | .metric &lt;chr&gt; | .estimator &lt;chr&gt; | mean &lt;dbl&gt; | n &lt;int&gt; | std_err &lt;dbl&gt; | .config &lt;chr&gt; |\n",
       "|---|---|---|---|---|---|---|\n",
       "| 56 | rmse | standard | 10.74326 | 5 | 0.2232853 | Model056 |\n",
       "\n"
      ],
      "text/plain": [
       "  neighbors .metric .estimator mean     n std_err   .config \n",
       "1 56        rmse    standard   10.74326 5 0.2232853 Model056"
      ]
     },
     "metadata": {},
     "output_type": "display_data"
    },
    {
     "data": {
      "image/png": "[encoded data removed]",
      "text/plain": [
       "plot without title"
      ]
     },
     "metadata": {
      "image/png": {
       "height": 420,
       "width": 420
      }
     },
     "output_type": "display_data"
    }
   ],
   "source": [
    "school_recipe <- recipe(GTotal ~ absences, data = school_train) %>%\n",
    "step_scale(all_predictors()) %>%\n",
    "step_center(all_predictors()) \n",
    "school_recipe\n",
    "\n",
    "knn_spec = nearest_neighbor(weight_func = \"rectangular\", neighbors = tune()) %>%\n",
    "set_engine(\"kknn\") %>%\n",
    "set_mode(\"regression\") \n",
    "\n",
    "school_vfold <- vfold_cv(school_train, v = 5, strata = GTotal) \n",
    "\n",
    "school_workflow = workflow() %>%\n",
    "add_recipe(school_recipe) %>%\n",
    "add_model(knn_spec)\n",
    "\n",
    "gridvals = tibble(neighbors = seq(1,150))\n",
    "school_results <- school_workflow %>%\n",
    "tune_grid(resamples = school_vfold, grid = gridvals) %>%\n",
    "collect_metrics() \n",
    "school_results\n",
    "\n",
    "rmse_data <- school_results %>%\n",
    "filter(.metric == \"rmse\")\n",
    "rmse_data\n",
    "\n",
    "rmse_data_vs_k <- ggplot(rmse_data, aes(x = neighbors, y = mean)) +\n",
    "geom_point() +\n",
    "geom_line() +\n",
    "labs(x = \"Neighbors\", y = \"RMSPE\")\n",
    "rmse_data_vs_k\n",
    "\n",
    "school_min = school_results %>%\n",
    "filter(.metric == \"rmse\") %>%\n",
    "filter(mean == min(mean))\n",
    "school_min"
   ]
  },
  {
   "cell_type": "code",
   "execution_count": 12,
   "metadata": {},
   "outputs": [
    {
     "data": {
      "text/plain": [
       "══ Workflow [trained] ══════════════════════════════════════════════════════════\n",
       "\u001b[3mPreprocessor:\u001b[23m Recipe\n",
       "\u001b[3mModel:\u001b[23m nearest_neighbor()\n",
       "\n",
       "── Preprocessor ────────────────────────────────────────────────────────────────\n",
       "2 Recipe Steps\n",
       "\n",
       "● step_scale()\n",
       "● step_center()\n",
       "\n",
       "── Model ───────────────────────────────────────────────────────────────────────\n",
       "\n",
       "Call:\n",
       "kknn::train.kknn(formula = ..y ~ ., data = data, ks = ~kmin,     kernel = ~\"rectangular\")\n",
       "\n",
       "Type of response variable: continuous\n",
       "minimal mean absolute error: 8.607631\n",
       "Minimal mean squared error: 115.0613\n",
       "Best kernel: rectangular\n",
       "Best k: 27"
      ]
     },
     "metadata": {},
     "output_type": "display_data"
    },
    {
     "data": {
      "text/html": [
       "<table>\n",
       "<caption>A tibble: 3 × 3</caption>\n",
       "<thead>\n",
       "\t<tr><th scope=col>.metric</th><th scope=col>.estimator</th><th scope=col>.estimate</th></tr>\n",
       "\t<tr><th scope=col>&lt;chr&gt;</th><th scope=col>&lt;chr&gt;</th><th scope=col>&lt;dbl&gt;</th></tr>\n",
       "</thead>\n",
       "<tbody>\n",
       "\t<tr><td>rmse</td><td>standard</td><td>11.563125329</td></tr>\n",
       "\t<tr><td>rsq </td><td>standard</td><td> 0.003433695</td></tr>\n",
       "\t<tr><td>mae </td><td>standard</td><td> 9.519282169</td></tr>\n",
       "</tbody>\n",
       "</table>\n"
      ],
      "text/latex": [
       "A tibble: 3 × 3\n",
       "\\begin{tabular}{lll}\n",
       " .metric & .estimator & .estimate\\\\\n",
       " <chr> & <chr> & <dbl>\\\\\n",
       "\\hline\n",
       "\t rmse & standard & 11.563125329\\\\\n",
       "\t rsq  & standard &  0.003433695\\\\\n",
       "\t mae  & standard &  9.519282169\\\\\n",
       "\\end{tabular}\n"
      ],
      "text/markdown": [
       "\n",
       "A tibble: 3 × 3\n",
       "\n",
       "| .metric &lt;chr&gt; | .estimator &lt;chr&gt; | .estimate &lt;dbl&gt; |\n",
       "|---|---|---|\n",
       "| rmse | standard | 11.563125329 |\n",
       "| rsq  | standard |  0.003433695 |\n",
       "| mae  | standard |  9.519282169 |\n",
       "\n"
      ],
      "text/plain": [
       "  .metric .estimator .estimate   \n",
       "1 rmse    standard   11.563125329\n",
       "2 rsq     standard    0.003433695\n",
       "3 mae     standard    9.519282169"
      ]
     },
     "metadata": {},
     "output_type": "display_data"
    }
   ],
   "source": [
    "kmin <- school_min %>% pull(neighbors) \n",
    "\n",
    "school_spec <- nearest_neighbor(weight_func = \"rectangular\", neighbors = kmin) %>%\n",
    "set_engine(\"kknn\") %>%\n",
    "set_mode(\"regression\")\n",
    "\n",
    "school_workflow2 <- workflow() %>%\n",
    "add_recipe(school_recipe) %>%\n",
    "add_model(school_spec) %>%\n",
    "fit(data = school_train) \n",
    "school_workflow2\n",
    "\n",
    "school_summary <- school_workflow2 %>%\n",
    "predict(school_test) %>%\n",
    "bind_cols(school_test) %>%\n",
    "metrics(truth = GTotal, estimate = .pred)\n",
    "school_summary"
   ]
  },
  {
   "cell_type": "code",
   "execution_count": 16,
   "metadata": {},
   "outputs": [
    {
     "data": {
      "text/html": [
       "<table>\n",
       "<caption>A tibble: 1 × 1</caption>\n",
       "<thead>\n",
       "\t<tr><th scope=col>.pred</th></tr>\n",
       "\t<tr><th scope=col>&lt;dbl&gt;</th></tr>\n",
       "</thead>\n",
       "<tbody>\n",
       "\t<tr><td>33.03704</td></tr>\n",
       "</tbody>\n",
       "</table>\n"
      ],
      "text/latex": [
       "A tibble: 1 × 1\n",
       "\\begin{tabular}{l}\n",
       " .pred\\\\\n",
       " <dbl>\\\\\n",
       "\\hline\n",
       "\t 33.03704\\\\\n",
       "\\end{tabular}\n"
      ],
      "text/markdown": [
       "\n",
       "A tibble: 1 × 1\n",
       "\n",
       "| .pred &lt;dbl&gt; |\n",
       "|---|\n",
       "| 33.03704 |\n",
       "\n"
      ],
      "text/plain": [
       "  .pred   \n",
       "1 33.03704"
      ]
     },
     "metadata": {},
     "output_type": "display_data"
    },
    {
     "data": {
      "text/html": [
       "<table>\n",
       "<caption>A tibble: 1 × 1</caption>\n",
       "<thead>\n",
       "\t<tr><th scope=col>.pred</th></tr>\n",
       "\t<tr><th scope=col>&lt;dbl&gt;</th></tr>\n",
       "</thead>\n",
       "<tbody>\n",
       "\t<tr><td>29.37037</td></tr>\n",
       "</tbody>\n",
       "</table>\n"
      ],
      "text/latex": [
       "A tibble: 1 × 1\n",
       "\\begin{tabular}{l}\n",
       " .pred\\\\\n",
       " <dbl>\\\\\n",
       "\\hline\n",
       "\t 29.37037\\\\\n",
       "\\end{tabular}\n"
      ],
      "text/markdown": [
       "\n",
       "A tibble: 1 × 1\n",
       "\n",
       "| .pred &lt;dbl&gt; |\n",
       "|---|\n",
       "| 29.37037 |\n",
       "\n"
      ],
      "text/plain": [
       "  .pred   \n",
       "1 29.37037"
      ]
     },
     "metadata": {},
     "output_type": "display_data"
    },
    {
     "data": {
      "text/html": [
       "<table>\n",
       "<caption>A tibble: 1 × 1</caption>\n",
       "<thead>\n",
       "\t<tr><th scope=col>.pred</th></tr>\n",
       "\t<tr><th scope=col>&lt;dbl&gt;</th></tr>\n",
       "</thead>\n",
       "<tbody>\n",
       "\t<tr><td>28.96296</td></tr>\n",
       "</tbody>\n",
       "</table>\n"
      ],
      "text/latex": [
       "A tibble: 1 × 1\n",
       "\\begin{tabular}{l}\n",
       " .pred\\\\\n",
       " <dbl>\\\\\n",
       "\\hline\n",
       "\t 28.96296\\\\\n",
       "\\end{tabular}\n"
      ],
      "text/markdown": [
       "\n",
       "A tibble: 1 × 1\n",
       "\n",
       "| .pred &lt;dbl&gt; |\n",
       "|---|\n",
       "| 28.96296 |\n",
       "\n"
      ],
      "text/plain": [
       "  .pred   \n",
       "1 28.96296"
      ]
     },
     "metadata": {},
     "output_type": "display_data"
    }
   ],
   "source": [
    "new_obs_1 <- tibble(absences = 1)\n",
    "grpredict(school_workflow2, new_obs_1)\n",
    "\n",
    "new_obs_2 <- tibble(absences = 15)\n",
    "predict(school_workflow2, new_obs_2)\n",
    "\n",
    "new_obs_3 <- tibble(absences = 47)\n",
    "predict(school_workflow2, new_obs_3)"
   ]
  },
  {
   "cell_type": "code",
   "execution_count": 9,
   "metadata": {},
   "outputs": [
    {
     "data": {
      "text/html": [
       "<table>\n",
       "<caption>A tibble: 3 × 3</caption>\n",
       "<thead>\n",
       "\t<tr><th scope=col>.metric</th><th scope=col>.estimator</th><th scope=col>.estimate</th></tr>\n",
       "\t<tr><th scope=col>&lt;chr&gt;</th><th scope=col>&lt;chr&gt;</th><th scope=col>&lt;dbl&gt;</th></tr>\n",
       "</thead>\n",
       "<tbody>\n",
       "\t<tr><td>rmse</td><td>standard</td><td>13.01389919</td></tr>\n",
       "\t<tr><td>rsq </td><td>standard</td><td> 0.05331349</td></tr>\n",
       "\t<tr><td>mae </td><td>standard</td><td>10.29329897</td></tr>\n",
       "</tbody>\n",
       "</table>\n"
      ],
      "text/latex": [
       "A tibble: 3 × 3\n",
       "\\begin{tabular}{lll}\n",
       " .metric & .estimator & .estimate\\\\\n",
       " <chr> & <chr> & <dbl>\\\\\n",
       "\\hline\n",
       "\t rmse & standard & 13.01389919\\\\\n",
       "\t rsq  & standard &  0.05331349\\\\\n",
       "\t mae  & standard & 10.29329897\\\\\n",
       "\\end{tabular}\n"
      ],
      "text/markdown": [
       "\n",
       "A tibble: 3 × 3\n",
       "\n",
       "| .metric &lt;chr&gt; | .estimator &lt;chr&gt; | .estimate &lt;dbl&gt; |\n",
       "|---|---|---|\n",
       "| rmse | standard | 13.01389919 |\n",
       "| rsq  | standard |  0.05331349 |\n",
       "| mae  | standard | 10.29329897 |\n",
       "\n"
      ],
      "text/plain": [
       "  .metric .estimator .estimate  \n",
       "1 rmse    standard   13.01389919\n",
       "2 rsq     standard    0.05331349\n",
       "3 mae     standard   10.29329897"
      ]
     },
     "metadata": {},
     "output_type": "display_data"
    },
    {
     "data": {
      "text/html": [
       "<table>\n",
       "<caption>A tibble: 3 × 3</caption>\n",
       "<thead>\n",
       "\t<tr><th scope=col>.metric</th><th scope=col>.estimator</th><th scope=col>.estimate</th></tr>\n",
       "\t<tr><th scope=col>&lt;chr&gt;</th><th scope=col>&lt;chr&gt;</th><th scope=col>&lt;dbl&gt;</th></tr>\n",
       "</thead>\n",
       "<tbody>\n",
       "\t<tr><td>rmse</td><td>standard</td><td>11.21072373</td></tr>\n",
       "\t<tr><td>rsq </td><td>standard</td><td> 0.05008743</td></tr>\n",
       "\t<tr><td>mae </td><td>standard</td><td> 9.31374570</td></tr>\n",
       "</tbody>\n",
       "</table>\n"
      ],
      "text/latex": [
       "A tibble: 3 × 3\n",
       "\\begin{tabular}{lll}\n",
       " .metric & .estimator & .estimate\\\\\n",
       " <chr> & <chr> & <dbl>\\\\\n",
       "\\hline\n",
       "\t rmse & standard & 11.21072373\\\\\n",
       "\t rsq  & standard &  0.05008743\\\\\n",
       "\t mae  & standard &  9.31374570\\\\\n",
       "\\end{tabular}\n"
      ],
      "text/markdown": [
       "\n",
       "A tibble: 3 × 3\n",
       "\n",
       "| .metric &lt;chr&gt; | .estimator &lt;chr&gt; | .estimate &lt;dbl&gt; |\n",
       "|---|---|---|\n",
       "| rmse | standard | 11.21072373 |\n",
       "| rsq  | standard |  0.05008743 |\n",
       "| mae  | standard |  9.31374570 |\n",
       "\n"
      ],
      "text/plain": [
       "  .metric .estimator .estimate  \n",
       "1 rmse    standard   11.21072373\n",
       "2 rsq     standard    0.05008743\n",
       "3 mae     standard    9.31374570"
      ]
     },
     "metadata": {},
     "output_type": "display_data"
    },
    {
     "data": {
      "text/html": [
       "<table>\n",
       "<caption>A tibble: 3 × 3</caption>\n",
       "<thead>\n",
       "\t<tr><th scope=col>.metric</th><th scope=col>.estimator</th><th scope=col>.estimate</th></tr>\n",
       "\t<tr><th scope=col>&lt;chr&gt;</th><th scope=col>&lt;chr&gt;</th><th scope=col>&lt;dbl&gt;</th></tr>\n",
       "</thead>\n",
       "<tbody>\n",
       "\t<tr><td>rmse</td><td>standard</td><td>11.22762462</td></tr>\n",
       "\t<tr><td>rsq </td><td>standard</td><td> 0.06043823</td></tr>\n",
       "\t<tr><td>mae </td><td>standard</td><td> 9.26414662</td></tr>\n",
       "</tbody>\n",
       "</table>\n"
      ],
      "text/latex": [
       "A tibble: 3 × 3\n",
       "\\begin{tabular}{lll}\n",
       " .metric & .estimator & .estimate\\\\\n",
       " <chr> & <chr> & <dbl>\\\\\n",
       "\\hline\n",
       "\t rmse & standard & 11.22762462\\\\\n",
       "\t rsq  & standard &  0.06043823\\\\\n",
       "\t mae  & standard &  9.26414662\\\\\n",
       "\\end{tabular}\n"
      ],
      "text/markdown": [
       "\n",
       "A tibble: 3 × 3\n",
       "\n",
       "| .metric &lt;chr&gt; | .estimator &lt;chr&gt; | .estimate &lt;dbl&gt; |\n",
       "|---|---|---|\n",
       "| rmse | standard | 11.22762462 |\n",
       "| rsq  | standard |  0.06043823 |\n",
       "| mae  | standard |  9.26414662 |\n",
       "\n"
      ],
      "text/plain": [
       "  .metric .estimator .estimate  \n",
       "1 rmse    standard   11.22762462\n",
       "2 rsq     standard    0.06043823\n",
       "3 mae     standard    9.26414662"
      ]
     },
     "metadata": {},
     "output_type": "display_data"
    }
   ],
   "source": [
    "school_spec_20 <- nearest_neighbor(weight_func = \"rectangular\", neighbors = 20) %>%\n",
    "set_engine(\"kknn\") %>%\n",
    "set_mode(\"regression\")\n",
    "\n",
    "school_20 <- workflow() %>%\n",
    "add_recipe(school_recipe) %>%\n",
    "add_model(school_spec_20) %>%\n",
    "fit(data = school_train) %>%\n",
    "predict(school_test) %>%\n",
    "bind_cols(school_test) %>%\n",
    "metrics(truth = GTotal, estimate = .pred)\n",
    "school_20\n",
    "\n",
    "\n",
    "school_spec_60 <- nearest_neighbor(weight_func = \"rectangular\", neighbors = 60) %>%\n",
    "set_engine(\"kknn\") %>%\n",
    "set_mode(\"regression\")\n",
    "\n",
    "school_60 <- workflow() %>%\n",
    "add_recipe(school_recipe) %>%\n",
    "add_model(school_spec_60) %>%\n",
    "fit(data = school_train) %>%\n",
    "predict(school_test) %>%\n",
    "bind_cols(school_test) %>%\n",
    "metrics(truth = GTotal, estimate = .pred)\n",
    "school_60\n",
    "\n",
    "\n",
    "school_spec_90 <- nearest_neighbor(weight_func = \"rectangular\", neighbors = 90) %>%\n",
    "set_engine(\"kknn\") %>%\n",
    "set_mode(\"regression\")\n",
    "\n",
    "school_90 <- workflow() %>%\n",
    "add_recipe(school_recipe) %>%\n",
    "add_model(school_spec_90) %>%\n",
    "fit(data = school_train) %>%\n",
    "predict(school_test) %>%\n",
    "bind_cols(school_test) %>%\n",
    "metrics(truth = GTotal, estimate = .pred)\n",
    "school_90"
   ]
  },
  {
   "cell_type": "code",
   "execution_count": 14,
   "metadata": {},
   "outputs": [
    {
     "data": {
      "image/png": "[encoded data removed]",
      "text/plain": [
       "plot without title"
      ]
     },
     "metadata": {
      "image/png": {
       "height": 420,
       "width": 420
      }
     },
     "output_type": "display_data"
    }
   ],
   "source": [
    "set.seed(1234)\n",
    "school_preds <- school_workflow2 %>%\n",
    "  predict(school_train) %>%\n",
    "  bind_cols(school_train)\n",
    "\n",
    "plot_final <- ggplot(school_preds, aes(x = absences, y = GTotal)) +\n",
    "  geom_point(alpha = 0.4) +\n",
    "  xlab(\"Number of Absences\") +\n",
    "  ylab(\"Total Grade\") +\n",
    "  geom_line(data = school_preds, aes(x = absences, y = .pred), color = \"blue\") +\n",
    "  ggtitle(paste0(\"K = \", kmin))\n",
    "\n",
    "plot_final"
   ]
  },
  {
   "cell_type": "code",
   "execution_count": 6,
   "metadata": {},
   "outputs": [
    {
     "data": {
      "text/plain": [
       "Linear Regression Model Specification (regression)\n",
       "\n",
       "Computational engine: lm \n"
      ]
     },
     "metadata": {},
     "output_type": "display_data"
    },
    {
     "data": {
      "text/plain": [
       "══ Workflow [trained] ══════════════════════════════════════════════════════════\n",
       "\u001b[3mPreprocessor:\u001b[23m Recipe\n",
       "\u001b[3mModel:\u001b[23m linear_reg()\n",
       "\n",
       "── Preprocessor ────────────────────────────────────────────────────────────────\n",
       "2 Recipe Steps\n",
       "\n",
       "● step_scale()\n",
       "● step_center()\n",
       "\n",
       "── Model ───────────────────────────────────────────────────────────────────────\n",
       "\n",
       "Call:\n",
       "stats::lm(formula = ..y ~ ., data = data)\n",
       "\n",
       "Coefficients:\n",
       "(Intercept)     absences  \n",
       "    32.2081      -0.6755  \n"
      ]
     },
     "metadata": {},
     "output_type": "display_data"
    }
   ],
   "source": [
    "lm_spec <- linear_reg() %>%\n",
    "            set_engine(\"lm\") %>%\n",
    "            set_mode(\"regression\")\n",
    "lm_spec\n",
    "\n",
    "lm_fit <- workflow() %>%\n",
    "            add_recipe(school_recipe) %>%\n",
    "            add_model(lm_spec) %>%\n",
    "            fit(data = school_train)\n",
    "lm_fit"
   ]
  },
  {
   "cell_type": "markdown",
   "metadata": {},
   "source": [
    "## Methods\n",
    "We chose absences and total grades as the two variables we would use because compared to categorical values, numerical values are more descriptive. Also, the graph generated using the latter would theoretically be more comprehensible and intuitive than what we would create using categorical variables.\n",
    "\n",
    "As for the summary table, since we would like to see the averages of the variables absences and total grades, we simply calculated them using summarize() and mean(). For the way of visualizing the data, we used the ggplot() function to create a scatter plot for the two variables we would use. The y-axis is the number of absences and the x-axis is students' total grades of first period grade (G1), second period grade (G2) and final grade (G3), as analyzing only one period of grades would lead to incomplete results.\n",
    "\n",
    "## Expected outcomes and significance\n",
    "We expect to find a negative correlation between the number of absences from school and students' grades of mathematics. This is because missing a larger amount of class means that the students might miss more content, which would likely lead to lower marks. In this case, we hope to predict students' grades based on the number of absences.\n",
    "\n",
    "Such findings are of great importance because if there exists a negative relationship between absences and grades, then it would indicate that in order to improve student performance, more reasonable measures could be taken by schools to increase student retention and attendance.\n",
    "\n",
    "Further questions that could be considered if a relationship between student absences and academic results is determined would be which subject has the highest correlation. To analyze this question, the results of the Portugese language grade data could be compared with the mathematics data to determine if both subjects suffer equally with increased absence or if one has a stronger correlation. Another question which could be considered is if one school has a higher average absence rate than the other, as data from two different secondary schools was analyzed, and therefore if there is one school which has academics more negatively impacted by absences than the other. "
   ]
  },
  {
   "cell_type": "code",
   "execution_count": null,
   "metadata": {},
   "outputs": [],
   "source": []
  }
 ],
 "metadata": {
  "kernelspec": {
   "display_name": "R",
   "language": "R",
   "name": "ir"
  },
  "language_info": {
   "codemirror_mode": "r",
   "file_extension": ".r",
   "mimetype": "text/x-r-source",
   "name": "R",
   "pygments_lexer": "r",
   "version": "4.0.0"
  }
 },
 "nbformat": 4,
 "nbformat_minor": 4
}
