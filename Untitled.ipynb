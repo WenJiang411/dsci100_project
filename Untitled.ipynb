{
 "cells": [],
 "metadata": {},
 "nbformat": 4,
 "nbformat_minor": 4
}

school_data=read.table("images/student_mat.csv",sep=";",header=TRUE)
school_data

school_data2 = school_data %>%
mutate(Total_grade = G1 + G2 + G3) %>%
select(Total_grade, absences)
school_data2
max(school_data2$absences)

school_plot = ggplot(school_data2, aes(x=Total_grade, y=absences)) + 
geom_point(alpha = 0.4) + 
xlab("Total Grade") + 
ylab("Absences")
school_plot

